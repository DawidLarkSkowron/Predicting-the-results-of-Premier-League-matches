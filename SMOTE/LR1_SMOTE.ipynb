{
 "cells": [
  {
   "cell_type": "code",
   "execution_count": 1,
   "metadata": {},
   "outputs": [],
   "source": [
    "import pandas as pd\n",
    "from sklearn.pipeline import Pipeline\n",
    "from sklearn.compose import ColumnTransformer\n",
    "from sklearn.preprocessing import StandardScaler, OneHotEncoder\n",
    "from sklearn.impute import SimpleImputer\n",
    "from sklearn.linear_model import LogisticRegression\n",
    "from sklearn.metrics import accuracy_score, classification_report, confusion_matrix\n",
    "import seaborn as sns\n",
    "import matplotlib.pyplot as plt"
   ]
  },
  {
   "cell_type": "code",
   "execution_count": 2,
   "metadata": {},
   "outputs": [],
   "source": [
    "# Wczytanie danych\n",
    "df = pd.read_csv('final_dataset_SMOTE_balanced.csv')"
   ]
  },
  {
   "cell_type": "code",
   "execution_count": 3,
   "metadata": {},
   "outputs": [],
   "source": [
    "# Konwersja kolumny Date z obsługą błędów oraz sortowanie według daty\n",
    "df['Date'] = pd.to_datetime(df['Date'], format='%d/%m/%y', errors='coerce', dayfirst=True)\n",
    "df = df.dropna(subset=['Date'])  # Usuwamy wiersze z niepoprawnymi datami\n",
    "df = df.sort_values('Date')"
   ]
  },
  {
   "cell_type": "code",
   "execution_count": 4,
   "metadata": {},
   "outputs": [],
   "source": [
    "# Przygotowanie danych:\n",
    "# - FTR: wynik meczu (zmienna docelowa)\n",
    "# - Usuwamy kolumny, które nie są dostępne przed rozpoczęciem meczu lub powodują problemy:\n",
    "#    \"FTHG\", \"FTAG\", \"MW\", \"HTFormPtsStr\", \"ATFormPtsStr\", \"Unnamed: 0\" i \"Date\"\n",
    "df_model = df.drop(columns=['FTHG', 'FTAG', 'MW', 'HTFormPtsStr', 'ATFormPtsStr'])\n",
    "y = df_model['FTR']\n",
    "X = df_model.drop(columns=['FTR', 'Date'])"
   ]
  },
  {
   "cell_type": "code",
   "execution_count": 5,
   "metadata": {},
   "outputs": [],
   "source": [
    "# Podział danych na zbiór treningowy i testowy oparty na czasie (80% najwcześniejszych, 20% najpóźniejszych)\n",
    "train_size = int(0.8 * len(X))\n",
    "X_train, X_test = X.iloc[:train_size].copy(), X.iloc[train_size:].copy()\n",
    "y_train, y_test = y.iloc[:train_size], y.iloc[train_size:]"
   ]
  },
  {
   "cell_type": "code",
   "execution_count": 6,
   "metadata": {},
   "outputs": [],
   "source": [
    "# Definicja cech kategorycznych i numerycznych\n",
    "categorical_features = ['HomeTeam', 'AwayTeam']\n",
    "numerical_features = [col for col in X_train.columns if col not in categorical_features]"
   ]
  },
  {
   "cell_type": "code",
   "execution_count": 7,
   "metadata": {},
   "outputs": [],
   "source": [
    "# Konwersja kolumn numerycznych do typu liczbowego (wartości niekonwertowalne stają się NaN)\n",
    "for col in numerical_features:\n",
    "    X_train[col] = pd.to_numeric(X_train[col], errors='coerce')\n",
    "    X_test[col] = pd.to_numeric(X_test[col], errors='coerce')"
   ]
  },
  {
   "cell_type": "code",
   "execution_count": 8,
   "metadata": {},
   "outputs": [],
   "source": [
    "# Pipeline przetwarzania danych:\n",
    "# Wykorzystujemy SimpleImputer, aby uzupełnić brakujące wartości strategią mediany,\n",
    "# a następnie standaryzujemy cechy numeryczne.\n",
    "preprocessor = ColumnTransformer(\n",
    "    transformers=[\n",
    "        ('num', Pipeline(steps=[\n",
    "            ('imputer', SimpleImputer(strategy='median')),\n",
    "            ('scaler', StandardScaler())\n",
    "        ]), numerical_features),\n",
    "        ('cat', OneHotEncoder(handle_unknown='ignore'), categorical_features)\n",
    "    ])"
   ]
  },
  {
   "cell_type": "code",
   "execution_count": 9,
   "metadata": {},
   "outputs": [],
   "source": [
    "# Budowa pipeline: preprocessing + regresja logistyczna\n",
    "# Budowa pipeline: preprocessing + regresja logistyczna\n",
    "model = Pipeline(steps=[\n",
    "    ('preprocessor', preprocessor),\n",
    "    ('classifier', LogisticRegression(\n",
    "        penalty='elasticnet',\n",
    "        solver='saga',\n",
    "        C=0.01,\n",
    "        l1_ratio=0.5,\n",
    "        max_iter=1000\n",
    "    ))\n",
    "])\n",
    "#DONE"
   ]
  },
  {
   "cell_type": "code",
   "execution_count": 10,
   "metadata": {},
   "outputs": [
    {
     "data": {
      "text/html": [
       "<style>#sk-container-id-1 {color: black;background-color: white;}#sk-container-id-1 pre{padding: 0;}#sk-container-id-1 div.sk-toggleable {background-color: white;}#sk-container-id-1 label.sk-toggleable__label {cursor: pointer;display: block;width: 100%;margin-bottom: 0;padding: 0.3em;box-sizing: border-box;text-align: center;}#sk-container-id-1 label.sk-toggleable__label-arrow:before {content: \"▸\";float: left;margin-right: 0.25em;color: #696969;}#sk-container-id-1 label.sk-toggleable__label-arrow:hover:before {color: black;}#sk-container-id-1 div.sk-estimator:hover label.sk-toggleable__label-arrow:before {color: black;}#sk-container-id-1 div.sk-toggleable__content {max-height: 0;max-width: 0;overflow: hidden;text-align: left;background-color: #f0f8ff;}#sk-container-id-1 div.sk-toggleable__content pre {margin: 0.2em;color: black;border-radius: 0.25em;background-color: #f0f8ff;}#sk-container-id-1 input.sk-toggleable__control:checked~div.sk-toggleable__content {max-height: 200px;max-width: 100%;overflow: auto;}#sk-container-id-1 input.sk-toggleable__control:checked~label.sk-toggleable__label-arrow:before {content: \"▾\";}#sk-container-id-1 div.sk-estimator input.sk-toggleable__control:checked~label.sk-toggleable__label {background-color: #d4ebff;}#sk-container-id-1 div.sk-label input.sk-toggleable__control:checked~label.sk-toggleable__label {background-color: #d4ebff;}#sk-container-id-1 input.sk-hidden--visually {border: 0;clip: rect(1px 1px 1px 1px);clip: rect(1px, 1px, 1px, 1px);height: 1px;margin: -1px;overflow: hidden;padding: 0;position: absolute;width: 1px;}#sk-container-id-1 div.sk-estimator {font-family: monospace;background-color: #f0f8ff;border: 1px dotted black;border-radius: 0.25em;box-sizing: border-box;margin-bottom: 0.5em;}#sk-container-id-1 div.sk-estimator:hover {background-color: #d4ebff;}#sk-container-id-1 div.sk-parallel-item::after {content: \"\";width: 100%;border-bottom: 1px solid gray;flex-grow: 1;}#sk-container-id-1 div.sk-label:hover label.sk-toggleable__label {background-color: #d4ebff;}#sk-container-id-1 div.sk-serial::before {content: \"\";position: absolute;border-left: 1px solid gray;box-sizing: border-box;top: 0;bottom: 0;left: 50%;z-index: 0;}#sk-container-id-1 div.sk-serial {display: flex;flex-direction: column;align-items: center;background-color: white;padding-right: 0.2em;padding-left: 0.2em;position: relative;}#sk-container-id-1 div.sk-item {position: relative;z-index: 1;}#sk-container-id-1 div.sk-parallel {display: flex;align-items: stretch;justify-content: center;background-color: white;position: relative;}#sk-container-id-1 div.sk-item::before, #sk-container-id-1 div.sk-parallel-item::before {content: \"\";position: absolute;border-left: 1px solid gray;box-sizing: border-box;top: 0;bottom: 0;left: 50%;z-index: -1;}#sk-container-id-1 div.sk-parallel-item {display: flex;flex-direction: column;z-index: 1;position: relative;background-color: white;}#sk-container-id-1 div.sk-parallel-item:first-child::after {align-self: flex-end;width: 50%;}#sk-container-id-1 div.sk-parallel-item:last-child::after {align-self: flex-start;width: 50%;}#sk-container-id-1 div.sk-parallel-item:only-child::after {width: 0;}#sk-container-id-1 div.sk-dashed-wrapped {border: 1px dashed gray;margin: 0 0.4em 0.5em 0.4em;box-sizing: border-box;padding-bottom: 0.4em;background-color: white;}#sk-container-id-1 div.sk-label label {font-family: monospace;font-weight: bold;display: inline-block;line-height: 1.2em;}#sk-container-id-1 div.sk-label-container {text-align: center;}#sk-container-id-1 div.sk-container {/* jupyter's `normalize.less` sets `[hidden] { display: none; }` but bootstrap.min.css set `[hidden] { display: none !important; }` so we also need the `!important` here to be able to override the default hidden behavior on the sphinx rendered scikit-learn.org. See: https://github.com/scikit-learn/scikit-learn/issues/21755 */display: inline-block !important;position: relative;}#sk-container-id-1 div.sk-text-repr-fallback {display: none;}</style><div id=\"sk-container-id-1\" class=\"sk-top-container\"><div class=\"sk-text-repr-fallback\"><pre>Pipeline(steps=[(&#x27;preprocessor&#x27;,\n",
       "                 ColumnTransformer(transformers=[(&#x27;num&#x27;,\n",
       "                                                  Pipeline(steps=[(&#x27;imputer&#x27;,\n",
       "                                                                   SimpleImputer(strategy=&#x27;median&#x27;)),\n",
       "                                                                  (&#x27;scaler&#x27;,\n",
       "                                                                   StandardScaler())]),\n",
       "                                                  [&#x27;HTGS&#x27;, &#x27;ATGS&#x27;, &#x27;HTGC&#x27;,\n",
       "                                                   &#x27;ATGC&#x27;, &#x27;HTP&#x27;, &#x27;ATP&#x27;, &#x27;HM1&#x27;,\n",
       "                                                   &#x27;HM2&#x27;, &#x27;HM3&#x27;, &#x27;HM4&#x27;, &#x27;HM5&#x27;,\n",
       "                                                   &#x27;AM1&#x27;, &#x27;AM2&#x27;, &#x27;AM3&#x27;, &#x27;AM4&#x27;,\n",
       "                                                   &#x27;AM5&#x27;, &#x27;HTFormPts&#x27;,\n",
       "                                                   &#x27;ATFormPts&#x27;, &#x27;HTWinStreak3&#x27;,\n",
       "                                                   &#x27;HTWinStreak5&#x27;,\n",
       "                                                   &#x27;HTLossStreak3&#x27;,\n",
       "                                                   &#x27;HTLossStreak5&#x27;,\n",
       "                                                   &#x27;ATWinStreak3&#x27;,\n",
       "                                                   &#x27;ATWinStreak5&#x27;,\n",
       "                                                   &#x27;ATLossStreak3&#x27;,\n",
       "                                                   &#x27;ATLossStreak5&#x27;, &#x27;HTGD&#x27;,\n",
       "                                                   &#x27;ATGD&#x27;, &#x27;DiffPts&#x27;,\n",
       "                                                   &#x27;DiffFormPts&#x27;]),\n",
       "                                                 (&#x27;cat&#x27;,\n",
       "                                                  OneHotEncoder(handle_unknown=&#x27;ignore&#x27;),\n",
       "                                                  [&#x27;HomeTeam&#x27;, &#x27;AwayTeam&#x27;])])),\n",
       "                (&#x27;classifier&#x27;,\n",
       "                 LogisticRegression(C=0.01, l1_ratio=0.5, max_iter=1000,\n",
       "                                    penalty=&#x27;elasticnet&#x27;, solver=&#x27;saga&#x27;))])</pre><b>In a Jupyter environment, please rerun this cell to show the HTML representation or trust the notebook. <br />On GitHub, the HTML representation is unable to render, please try loading this page with nbviewer.org.</b></div><div class=\"sk-container\" hidden><div class=\"sk-item sk-dashed-wrapped\"><div class=\"sk-label-container\"><div class=\"sk-label sk-toggleable\"><input class=\"sk-toggleable__control sk-hidden--visually\" id=\"sk-estimator-id-1\" type=\"checkbox\" ><label for=\"sk-estimator-id-1\" class=\"sk-toggleable__label sk-toggleable__label-arrow\">Pipeline</label><div class=\"sk-toggleable__content\"><pre>Pipeline(steps=[(&#x27;preprocessor&#x27;,\n",
       "                 ColumnTransformer(transformers=[(&#x27;num&#x27;,\n",
       "                                                  Pipeline(steps=[(&#x27;imputer&#x27;,\n",
       "                                                                   SimpleImputer(strategy=&#x27;median&#x27;)),\n",
       "                                                                  (&#x27;scaler&#x27;,\n",
       "                                                                   StandardScaler())]),\n",
       "                                                  [&#x27;HTGS&#x27;, &#x27;ATGS&#x27;, &#x27;HTGC&#x27;,\n",
       "                                                   &#x27;ATGC&#x27;, &#x27;HTP&#x27;, &#x27;ATP&#x27;, &#x27;HM1&#x27;,\n",
       "                                                   &#x27;HM2&#x27;, &#x27;HM3&#x27;, &#x27;HM4&#x27;, &#x27;HM5&#x27;,\n",
       "                                                   &#x27;AM1&#x27;, &#x27;AM2&#x27;, &#x27;AM3&#x27;, &#x27;AM4&#x27;,\n",
       "                                                   &#x27;AM5&#x27;, &#x27;HTFormPts&#x27;,\n",
       "                                                   &#x27;ATFormPts&#x27;, &#x27;HTWinStreak3&#x27;,\n",
       "                                                   &#x27;HTWinStreak5&#x27;,\n",
       "                                                   &#x27;HTLossStreak3&#x27;,\n",
       "                                                   &#x27;HTLossStreak5&#x27;,\n",
       "                                                   &#x27;ATWinStreak3&#x27;,\n",
       "                                                   &#x27;ATWinStreak5&#x27;,\n",
       "                                                   &#x27;ATLossStreak3&#x27;,\n",
       "                                                   &#x27;ATLossStreak5&#x27;, &#x27;HTGD&#x27;,\n",
       "                                                   &#x27;ATGD&#x27;, &#x27;DiffPts&#x27;,\n",
       "                                                   &#x27;DiffFormPts&#x27;]),\n",
       "                                                 (&#x27;cat&#x27;,\n",
       "                                                  OneHotEncoder(handle_unknown=&#x27;ignore&#x27;),\n",
       "                                                  [&#x27;HomeTeam&#x27;, &#x27;AwayTeam&#x27;])])),\n",
       "                (&#x27;classifier&#x27;,\n",
       "                 LogisticRegression(C=0.01, l1_ratio=0.5, max_iter=1000,\n",
       "                                    penalty=&#x27;elasticnet&#x27;, solver=&#x27;saga&#x27;))])</pre></div></div></div><div class=\"sk-serial\"><div class=\"sk-item sk-dashed-wrapped\"><div class=\"sk-label-container\"><div class=\"sk-label sk-toggleable\"><input class=\"sk-toggleable__control sk-hidden--visually\" id=\"sk-estimator-id-2\" type=\"checkbox\" ><label for=\"sk-estimator-id-2\" class=\"sk-toggleable__label sk-toggleable__label-arrow\">preprocessor: ColumnTransformer</label><div class=\"sk-toggleable__content\"><pre>ColumnTransformer(transformers=[(&#x27;num&#x27;,\n",
       "                                 Pipeline(steps=[(&#x27;imputer&#x27;,\n",
       "                                                  SimpleImputer(strategy=&#x27;median&#x27;)),\n",
       "                                                 (&#x27;scaler&#x27;, StandardScaler())]),\n",
       "                                 [&#x27;HTGS&#x27;, &#x27;ATGS&#x27;, &#x27;HTGC&#x27;, &#x27;ATGC&#x27;, &#x27;HTP&#x27;, &#x27;ATP&#x27;,\n",
       "                                  &#x27;HM1&#x27;, &#x27;HM2&#x27;, &#x27;HM3&#x27;, &#x27;HM4&#x27;, &#x27;HM5&#x27;, &#x27;AM1&#x27;,\n",
       "                                  &#x27;AM2&#x27;, &#x27;AM3&#x27;, &#x27;AM4&#x27;, &#x27;AM5&#x27;, &#x27;HTFormPts&#x27;,\n",
       "                                  &#x27;ATFormPts&#x27;, &#x27;HTWinStreak3&#x27;, &#x27;HTWinStreak5&#x27;,\n",
       "                                  &#x27;HTLossStreak3&#x27;, &#x27;HTLossStreak5&#x27;,\n",
       "                                  &#x27;ATWinStreak3&#x27;, &#x27;ATWinStreak5&#x27;,\n",
       "                                  &#x27;ATLossStreak3&#x27;, &#x27;ATLossStreak5&#x27;, &#x27;HTGD&#x27;,\n",
       "                                  &#x27;ATGD&#x27;, &#x27;DiffPts&#x27;, &#x27;DiffFormPts&#x27;]),\n",
       "                                (&#x27;cat&#x27;, OneHotEncoder(handle_unknown=&#x27;ignore&#x27;),\n",
       "                                 [&#x27;HomeTeam&#x27;, &#x27;AwayTeam&#x27;])])</pre></div></div></div><div class=\"sk-parallel\"><div class=\"sk-parallel-item\"><div class=\"sk-item\"><div class=\"sk-label-container\"><div class=\"sk-label sk-toggleable\"><input class=\"sk-toggleable__control sk-hidden--visually\" id=\"sk-estimator-id-3\" type=\"checkbox\" ><label for=\"sk-estimator-id-3\" class=\"sk-toggleable__label sk-toggleable__label-arrow\">num</label><div class=\"sk-toggleable__content\"><pre>[&#x27;HTGS&#x27;, &#x27;ATGS&#x27;, &#x27;HTGC&#x27;, &#x27;ATGC&#x27;, &#x27;HTP&#x27;, &#x27;ATP&#x27;, &#x27;HM1&#x27;, &#x27;HM2&#x27;, &#x27;HM3&#x27;, &#x27;HM4&#x27;, &#x27;HM5&#x27;, &#x27;AM1&#x27;, &#x27;AM2&#x27;, &#x27;AM3&#x27;, &#x27;AM4&#x27;, &#x27;AM5&#x27;, &#x27;HTFormPts&#x27;, &#x27;ATFormPts&#x27;, &#x27;HTWinStreak3&#x27;, &#x27;HTWinStreak5&#x27;, &#x27;HTLossStreak3&#x27;, &#x27;HTLossStreak5&#x27;, &#x27;ATWinStreak3&#x27;, &#x27;ATWinStreak5&#x27;, &#x27;ATLossStreak3&#x27;, &#x27;ATLossStreak5&#x27;, &#x27;HTGD&#x27;, &#x27;ATGD&#x27;, &#x27;DiffPts&#x27;, &#x27;DiffFormPts&#x27;]</pre></div></div></div><div class=\"sk-serial\"><div class=\"sk-item\"><div class=\"sk-serial\"><div class=\"sk-item\"><div class=\"sk-estimator sk-toggleable\"><input class=\"sk-toggleable__control sk-hidden--visually\" id=\"sk-estimator-id-4\" type=\"checkbox\" ><label for=\"sk-estimator-id-4\" class=\"sk-toggleable__label sk-toggleable__label-arrow\">SimpleImputer</label><div class=\"sk-toggleable__content\"><pre>SimpleImputer(strategy=&#x27;median&#x27;)</pre></div></div></div><div class=\"sk-item\"><div class=\"sk-estimator sk-toggleable\"><input class=\"sk-toggleable__control sk-hidden--visually\" id=\"sk-estimator-id-5\" type=\"checkbox\" ><label for=\"sk-estimator-id-5\" class=\"sk-toggleable__label sk-toggleable__label-arrow\">StandardScaler</label><div class=\"sk-toggleable__content\"><pre>StandardScaler()</pre></div></div></div></div></div></div></div></div><div class=\"sk-parallel-item\"><div class=\"sk-item\"><div class=\"sk-label-container\"><div class=\"sk-label sk-toggleable\"><input class=\"sk-toggleable__control sk-hidden--visually\" id=\"sk-estimator-id-6\" type=\"checkbox\" ><label for=\"sk-estimator-id-6\" class=\"sk-toggleable__label sk-toggleable__label-arrow\">cat</label><div class=\"sk-toggleable__content\"><pre>[&#x27;HomeTeam&#x27;, &#x27;AwayTeam&#x27;]</pre></div></div></div><div class=\"sk-serial\"><div class=\"sk-item\"><div class=\"sk-estimator sk-toggleable\"><input class=\"sk-toggleable__control sk-hidden--visually\" id=\"sk-estimator-id-7\" type=\"checkbox\" ><label for=\"sk-estimator-id-7\" class=\"sk-toggleable__label sk-toggleable__label-arrow\">OneHotEncoder</label><div class=\"sk-toggleable__content\"><pre>OneHotEncoder(handle_unknown=&#x27;ignore&#x27;)</pre></div></div></div></div></div></div></div></div><div class=\"sk-item\"><div class=\"sk-estimator sk-toggleable\"><input class=\"sk-toggleable__control sk-hidden--visually\" id=\"sk-estimator-id-8\" type=\"checkbox\" ><label for=\"sk-estimator-id-8\" class=\"sk-toggleable__label sk-toggleable__label-arrow\">LogisticRegression</label><div class=\"sk-toggleable__content\"><pre>LogisticRegression(C=0.01, l1_ratio=0.5, max_iter=1000, penalty=&#x27;elasticnet&#x27;,\n",
       "                   solver=&#x27;saga&#x27;)</pre></div></div></div></div></div></div></div>"
      ],
      "text/plain": [
       "Pipeline(steps=[('preprocessor',\n",
       "                 ColumnTransformer(transformers=[('num',\n",
       "                                                  Pipeline(steps=[('imputer',\n",
       "                                                                   SimpleImputer(strategy='median')),\n",
       "                                                                  ('scaler',\n",
       "                                                                   StandardScaler())]),\n",
       "                                                  ['HTGS', 'ATGS', 'HTGC',\n",
       "                                                   'ATGC', 'HTP', 'ATP', 'HM1',\n",
       "                                                   'HM2', 'HM3', 'HM4', 'HM5',\n",
       "                                                   'AM1', 'AM2', 'AM3', 'AM4',\n",
       "                                                   'AM5', 'HTFormPts',\n",
       "                                                   'ATFormPts', 'HTWinStreak3',\n",
       "                                                   'HTWinStreak5',\n",
       "                                                   'HTLossStreak3',\n",
       "                                                   'HTLossStreak5',\n",
       "                                                   'ATWinStreak3',\n",
       "                                                   'ATWinStreak5',\n",
       "                                                   'ATLossStreak3',\n",
       "                                                   'ATLossStreak5', 'HTGD',\n",
       "                                                   'ATGD', 'DiffPts',\n",
       "                                                   'DiffFormPts']),\n",
       "                                                 ('cat',\n",
       "                                                  OneHotEncoder(handle_unknown='ignore'),\n",
       "                                                  ['HomeTeam', 'AwayTeam'])])),\n",
       "                ('classifier',\n",
       "                 LogisticRegression(C=0.01, l1_ratio=0.5, max_iter=1000,\n",
       "                                    penalty='elasticnet', solver='saga'))])"
      ]
     },
     "execution_count": 10,
     "metadata": {},
     "output_type": "execute_result"
    }
   ],
   "source": [
    "# Trenowanie modelu\n",
    "model.fit(X_train, y_train)"
   ]
  },
  {
   "cell_type": "code",
   "execution_count": 11,
   "metadata": {},
   "outputs": [],
   "source": [
    "# Predykcja na zbiorze testowym\n",
    "y_pred = model.predict(X_test)"
   ]
  },
  {
   "cell_type": "code",
   "execution_count": 12,
   "metadata": {},
   "outputs": [
    {
     "name": "stdout",
     "output_type": "stream",
     "text": [
      "Dokładność modelu: 0.44011684518013633\n",
      "Raport klasyfikacji:\n",
      "               precision    recall  f1-score   support\n",
      "\n",
      "           A       0.46      0.49      0.47       345\n",
      "           D       0.34      0.26      0.29       341\n",
      "           H       0.48      0.57      0.52       341\n",
      "\n",
      "    accuracy                           0.44      1027\n",
      "   macro avg       0.43      0.44      0.43      1027\n",
      "weighted avg       0.43      0.44      0.43      1027\n",
      "\n"
     ]
    }
   ],
   "source": [
    "# Ocena modelu\n",
    "accuracy = accuracy_score(y_test, y_pred)\n",
    "print(\"Dokładność modelu:\", accuracy)\n",
    "print(\"Raport klasyfikacji:\\n\", classification_report(y_test, y_pred))"
   ]
  },
  {
   "cell_type": "code",
   "execution_count": 13,
   "metadata": {},
   "outputs": [],
   "source": [
    "#import pickle\n",
    "\n",
    "# Zapisz model w trybie protokołu 4 (dla kompatybilności)\n",
    "#with open(\"model.pkl\", \"wb\") as file:\n",
    "    #pickle.dump(model, file, protocol=4)\n"
   ]
  },
  {
   "cell_type": "code",
   "execution_count": 14,
   "metadata": {},
   "outputs": [
    {
     "ename": "IndentationError",
     "evalue": "unexpected indent (3918855770.py, line 9)",
     "output_type": "error",
     "traceback": [
      "\u001b[1;36m  Cell \u001b[1;32mIn[14], line 9\u001b[1;36m\u001b[0m\n\u001b[1;33m    'classifier__penalty': ['l1', 'l2', 'elasticnet', 'none'],\u001b[0m\n\u001b[1;37m    ^\u001b[0m\n\u001b[1;31mIndentationError\u001b[0m\u001b[1;31m:\u001b[0m unexpected indent\n"
     ]
    }
   ],
   "source": [
    "from sklearn.model_selection import ParameterGrid\n",
    "from sklearn.base import clone\n",
    "from sklearn.metrics import accuracy_score, classification_report\n",
    "import pandas as pd\n",
    "from copy import deepcopy\n",
    "\n",
    "# 1. Definicja siatki parametrów\n",
    "#param_grid = {\n",
    "    'classifier__penalty': ['l1', 'l2', 'elasticnet', 'none'],\n",
    "    'classifier__C': [0.001, 0.01, 0.1, 1, 10, 100],\n",
    "    'classifier__solver': ['liblinear', 'saga', 'lbfgs', 'newton-cg'],\n",
    "    'classifier__l1_ratio': [None, 0.1, 0.5, 0.9],\n",
    "    'classifier__max_iter': [1000]\n",
    "}\n",
    "\n",
    "# 2. Filtrowanie nieprawidłowych kombinacji\n",
    "valid_param_combinations = []\n",
    "for params in ParameterGrid(param_grid):\n",
    "    solver = params['classifier__solver']\n",
    "    penalty = params['classifier__penalty']\n",
    "    l1_ratio = params['classifier__l1_ratio']\n",
    "\n",
    "    # Reguły kompatybilności parametrów\n",
    "    if penalty == 'elasticnet' and solver != 'saga':\n",
    "        continue\n",
    "    if penalty == 'l1' and solver not in ['liblinear', 'saga']:\n",
    "        continue\n",
    "    if penalty == 'none' and solver not in ['lbfgs', 'saga', 'newton-cg']:\n",
    "        continue\n",
    "    if penalty == 'l2' and solver not in ['lbfgs', 'liblinear', 'newton-cg', 'saga']:\n",
    "        continue\n",
    "    if penalty != 'elasticnet' and l1_ratio is not None:\n",
    "        continue\n",
    "\n",
    "    valid_param_combinations.append(params)\n",
    "\n",
    "print(f\"✔ Dozwolonych kombinacji: {len(valid_param_combinations)}\")\n",
    "\n",
    "# 3. Manualny GridSearch\n",
    "results = []\n",
    "\n",
    "for i, p in enumerate(valid_param_combinations):\n",
    "    model_copy = clone(model)\n",
    "    safe_params = deepcopy(p)\n",
    "\n",
    "    # Usuń l1_ratio jeśli nie dotyczy elasticnet\n",
    "    if safe_params.get('classifier__penalty') != 'elasticnet':\n",
    "        safe_params.pop('classifier__l1_ratio', None)\n",
    "\n",
    "    try:\n",
    "        model_copy.set_params(**safe_params)\n",
    "        model_copy.fit(X_train, y_train)\n",
    "        y_pred = model_copy.predict(X_test)\n",
    "        acc = accuracy_score(y_test, y_pred)\n",
    "        results.append((safe_params, acc))\n",
    "        print(f\"[{i+1}/{len(valid_param_combinations)}] ACC: {acc:.4f} | {safe_params}\")\n",
    "    except Exception as e:\n",
    "        print(f\"[{i+1}/{len(valid_param_combinations)}] ❌ Błąd dla: {safe_params} \\n{e}\")\n",
    "\n",
    "# 4. Posortuj wyniki\n",
    "results.sort(key=lambda x: x[1], reverse=True)\n",
    "\n",
    "# 5. Najlepszy wynik\n",
    "best_params, best_acc = results[0]\n",
    "print(\"\\n🔝 Najlepsze parametry:\")\n",
    "print(best_params)\n",
    "print(f\"Dokładność: {best_acc:.4f}\")\n",
    "\n",
    "# 6. Pełny raport klasyfikacji\n",
    "best_model = clone(model)\n",
    "best_model.set_params(**best_params)\n",
    "best_model.fit(X_train, y_train)\n",
    "y_pred_best = best_model.predict(X_test)\n",
    "\n",
    "print(\"\\n📊 Raport klasyfikacji dla najlepszego modelu:\")\n",
    "print(classification_report(y_test, y_pred_best))\n",
    "\n"
   ]
  }
 ],
 "metadata": {
  "kernelspec": {
   "display_name": "Python 3",
   "language": "python",
   "name": "python3"
  },
  "language_info": {
   "codemirror_mode": {
    "name": "ipython",
    "version": 3
   },
   "file_extension": ".py",
   "mimetype": "text/x-python",
   "name": "python",
   "nbconvert_exporter": "python",
   "pygments_lexer": "ipython3",
   "version": "3.10.11"
  }
 },
 "nbformat": 4,
 "nbformat_minor": 2
}
