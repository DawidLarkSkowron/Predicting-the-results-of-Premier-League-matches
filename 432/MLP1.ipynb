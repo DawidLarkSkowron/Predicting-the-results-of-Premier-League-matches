{
 "cells": [
  {
   "cell_type": "code",
   "execution_count": 14,
   "metadata": {},
   "outputs": [],
   "source": [
    "import pandas as pd\n",
    "from sklearn.pipeline import Pipeline\n",
    "from sklearn.compose import ColumnTransformer\n",
    "from sklearn.preprocessing import StandardScaler, OneHotEncoder\n",
    "from sklearn.impute import SimpleImputer\n",
    "from sklearn.neural_network import MLPClassifier\n",
    "from sklearn.metrics import accuracy_score, classification_report"
   ]
  },
  {
   "cell_type": "code",
   "execution_count": 15,
   "metadata": {},
   "outputs": [],
   "source": [
    "# Wczytanie danych\n",
    "df = pd.read_csv('final_dataset_1.csv')"
   ]
  },
  {
   "cell_type": "code",
   "execution_count": 16,
   "metadata": {},
   "outputs": [],
   "source": [
    "# Konwersja kolumny Date z obsługą błędów oraz sortowanie według daty\n",
    "df['Date'] = pd.to_datetime(df['Date'], format='%d/%m/%y', errors='coerce', dayfirst=True)\n",
    "df = df.dropna(subset=['Date'])  # Usuwamy wiersze z niepoprawnymi datami\n",
    "df = df.sort_values('Date')"
   ]
  },
  {
   "cell_type": "code",
   "execution_count": 17,
   "metadata": {},
   "outputs": [],
   "source": [
    "# Przygotowanie danych:\n",
    "# - FTR to wynik meczu (zmienna docelowa)\n",
    "# - Usuwamy kolumny, które nie są dostępne przed rozpoczęciem meczu lub mogą powodować problemy:\n",
    "#   \"Unnamed: 0\", \"FTHG\", \"FTAG\", \"MW\", \"HTFormPtsStr\", \"ATFormPtsStr\", \"Date\"\n",
    "df_model = df.drop(columns=['Unnamed: 0', 'FTHG', 'FTAG', 'MW', 'HTFormPtsStr', 'ATFormPtsStr'])\n",
    "y = df_model['FTR']\n",
    "X = df_model.drop(columns=['FTR', 'Date'])"
   ]
  },
  {
   "cell_type": "code",
   "execution_count": 18,
   "metadata": {},
   "outputs": [],
   "source": [
    "# Podział danych na zbiór treningowy i testowy oparty na czasie (80% najwcześniejszych, 20% najpóźniejszych)\n",
    "train_size = int(0.8 * len(X))\n",
    "X_train, X_test = X.iloc[:train_size].copy(), X.iloc[train_size:].copy()\n",
    "y_train, y_test = y.iloc[:train_size], y.iloc[train_size:]"
   ]
  },
  {
   "cell_type": "code",
   "execution_count": 19,
   "metadata": {},
   "outputs": [],
   "source": [
    "# Definicja cech kategorycznych i numerycznych\n",
    "categorical_features = ['HomeTeam', 'AwayTeam']\n",
    "numerical_features = [col for col in X_train.columns if col not in categorical_features]"
   ]
  },
  {
   "cell_type": "code",
   "execution_count": 20,
   "metadata": {},
   "outputs": [],
   "source": [
    "# Konwersja kolumn numerycznych do typu liczbowego (wartości niekonwertowalne stają się NaN)\n",
    "for col in numerical_features:\n",
    "    X_train[col] = pd.to_numeric(X_train[col], errors='coerce')\n",
    "    X_test[col] = pd.to_numeric(X_test[col], errors='coerce')"
   ]
  },
  {
   "cell_type": "code",
   "execution_count": 21,
   "metadata": {},
   "outputs": [],
   "source": [
    "# Budowa pipeline'u przetwarzania danych:\n",
    "# Dla cech numerycznych:\n",
    "#   - imputacja brakujących wartości (SimpleImputer, strategia='median')\n",
    "#   - standaryzacja (StandardScaler)\n",
    "# Dla cech kategorycznych: kodowanie OneHotEncoder\n",
    "preprocessor = ColumnTransformer(\n",
    "    transformers=[\n",
    "        ('num', Pipeline(steps=[\n",
    "            ('imputer', SimpleImputer(strategy='median')),\n",
    "            ('scaler', StandardScaler())\n",
    "        ]), numerical_features),\n",
    "        ('cat', OneHotEncoder(handle_unknown='ignore'), categorical_features)\n",
    "    ])"
   ]
  },
  {
   "cell_type": "code",
   "execution_count": 22,
   "metadata": {},
   "outputs": [],
   "source": [
    "# Budowa pipeline'u: preprocessing + MLPClassifier\n",
    "model = Pipeline([\n",
    "    ('preprocessor', preprocessor),\n",
    "    ('mlp', MLPClassifier(\n",
    "        hidden_layer_sizes=(150,),\n",
    "        activation='tanh',\n",
    "        solver='adam',\n",
    "        alpha=0.0001,\n",
    "        learning_rate_init=0.001,\n",
    "        early_stopping=True,\n",
    "        random_state=42,\n",
    "        max_iter=500\n",
    "    ))\n",
    "])\n"
   ]
  },
  {
   "cell_type": "code",
   "execution_count": 23,
   "metadata": {},
   "outputs": [
    {
     "data": {
      "text/html": [
       "<style>#sk-container-id-2 {color: black;background-color: white;}#sk-container-id-2 pre{padding: 0;}#sk-container-id-2 div.sk-toggleable {background-color: white;}#sk-container-id-2 label.sk-toggleable__label {cursor: pointer;display: block;width: 100%;margin-bottom: 0;padding: 0.3em;box-sizing: border-box;text-align: center;}#sk-container-id-2 label.sk-toggleable__label-arrow:before {content: \"▸\";float: left;margin-right: 0.25em;color: #696969;}#sk-container-id-2 label.sk-toggleable__label-arrow:hover:before {color: black;}#sk-container-id-2 div.sk-estimator:hover label.sk-toggleable__label-arrow:before {color: black;}#sk-container-id-2 div.sk-toggleable__content {max-height: 0;max-width: 0;overflow: hidden;text-align: left;background-color: #f0f8ff;}#sk-container-id-2 div.sk-toggleable__content pre {margin: 0.2em;color: black;border-radius: 0.25em;background-color: #f0f8ff;}#sk-container-id-2 input.sk-toggleable__control:checked~div.sk-toggleable__content {max-height: 200px;max-width: 100%;overflow: auto;}#sk-container-id-2 input.sk-toggleable__control:checked~label.sk-toggleable__label-arrow:before {content: \"▾\";}#sk-container-id-2 div.sk-estimator input.sk-toggleable__control:checked~label.sk-toggleable__label {background-color: #d4ebff;}#sk-container-id-2 div.sk-label input.sk-toggleable__control:checked~label.sk-toggleable__label {background-color: #d4ebff;}#sk-container-id-2 input.sk-hidden--visually {border: 0;clip: rect(1px 1px 1px 1px);clip: rect(1px, 1px, 1px, 1px);height: 1px;margin: -1px;overflow: hidden;padding: 0;position: absolute;width: 1px;}#sk-container-id-2 div.sk-estimator {font-family: monospace;background-color: #f0f8ff;border: 1px dotted black;border-radius: 0.25em;box-sizing: border-box;margin-bottom: 0.5em;}#sk-container-id-2 div.sk-estimator:hover {background-color: #d4ebff;}#sk-container-id-2 div.sk-parallel-item::after {content: \"\";width: 100%;border-bottom: 1px solid gray;flex-grow: 1;}#sk-container-id-2 div.sk-label:hover label.sk-toggleable__label {background-color: #d4ebff;}#sk-container-id-2 div.sk-serial::before {content: \"\";position: absolute;border-left: 1px solid gray;box-sizing: border-box;top: 0;bottom: 0;left: 50%;z-index: 0;}#sk-container-id-2 div.sk-serial {display: flex;flex-direction: column;align-items: center;background-color: white;padding-right: 0.2em;padding-left: 0.2em;position: relative;}#sk-container-id-2 div.sk-item {position: relative;z-index: 1;}#sk-container-id-2 div.sk-parallel {display: flex;align-items: stretch;justify-content: center;background-color: white;position: relative;}#sk-container-id-2 div.sk-item::before, #sk-container-id-2 div.sk-parallel-item::before {content: \"\";position: absolute;border-left: 1px solid gray;box-sizing: border-box;top: 0;bottom: 0;left: 50%;z-index: -1;}#sk-container-id-2 div.sk-parallel-item {display: flex;flex-direction: column;z-index: 1;position: relative;background-color: white;}#sk-container-id-2 div.sk-parallel-item:first-child::after {align-self: flex-end;width: 50%;}#sk-container-id-2 div.sk-parallel-item:last-child::after {align-self: flex-start;width: 50%;}#sk-container-id-2 div.sk-parallel-item:only-child::after {width: 0;}#sk-container-id-2 div.sk-dashed-wrapped {border: 1px dashed gray;margin: 0 0.4em 0.5em 0.4em;box-sizing: border-box;padding-bottom: 0.4em;background-color: white;}#sk-container-id-2 div.sk-label label {font-family: monospace;font-weight: bold;display: inline-block;line-height: 1.2em;}#sk-container-id-2 div.sk-label-container {text-align: center;}#sk-container-id-2 div.sk-container {/* jupyter's `normalize.less` sets `[hidden] { display: none; }` but bootstrap.min.css set `[hidden] { display: none !important; }` so we also need the `!important` here to be able to override the default hidden behavior on the sphinx rendered scikit-learn.org. See: https://github.com/scikit-learn/scikit-learn/issues/21755 */display: inline-block !important;position: relative;}#sk-container-id-2 div.sk-text-repr-fallback {display: none;}</style><div id=\"sk-container-id-2\" class=\"sk-top-container\"><div class=\"sk-text-repr-fallback\"><pre>Pipeline(steps=[(&#x27;preprocessor&#x27;,\n",
       "                 ColumnTransformer(transformers=[(&#x27;num&#x27;,\n",
       "                                                  Pipeline(steps=[(&#x27;imputer&#x27;,\n",
       "                                                                   SimpleImputer(strategy=&#x27;median&#x27;)),\n",
       "                                                                  (&#x27;scaler&#x27;,\n",
       "                                                                   StandardScaler())]),\n",
       "                                                  [&#x27;HTGS&#x27;, &#x27;ATGS&#x27;, &#x27;HTGC&#x27;,\n",
       "                                                   &#x27;ATGC&#x27;, &#x27;HTP&#x27;, &#x27;ATP&#x27;, &#x27;HM1&#x27;,\n",
       "                                                   &#x27;HM2&#x27;, &#x27;HM3&#x27;, &#x27;HM4&#x27;, &#x27;HM5&#x27;,\n",
       "                                                   &#x27;AM1&#x27;, &#x27;AM2&#x27;, &#x27;AM3&#x27;, &#x27;AM4&#x27;,\n",
       "                                                   &#x27;AM5&#x27;, &#x27;HTFormPts&#x27;,\n",
       "                                                   &#x27;ATFormPts&#x27;, &#x27;HTWinStreak3&#x27;,\n",
       "                                                   &#x27;HTWinStreak5&#x27;,\n",
       "                                                   &#x27;HTLossStreak3&#x27;,\n",
       "                                                   &#x27;HTLossStreak5&#x27;,\n",
       "                                                   &#x27;ATWinStreak3&#x27;,\n",
       "                                                   &#x27;ATWinStreak5&#x27;,\n",
       "                                                   &#x27;ATLossStreak3&#x27;,\n",
       "                                                   &#x27;ATLossStreak5&#x27;, &#x27;HTGD&#x27;,\n",
       "                                                   &#x27;ATGD&#x27;, &#x27;DiffPts&#x27;,\n",
       "                                                   &#x27;DiffFormPts&#x27;]),\n",
       "                                                 (&#x27;cat&#x27;,\n",
       "                                                  OneHotEncoder(handle_unknown=&#x27;ignore&#x27;),\n",
       "                                                  [&#x27;HomeTeam&#x27;, &#x27;AwayTeam&#x27;])])),\n",
       "                (&#x27;mlp&#x27;,\n",
       "                 MLPClassifier(activation=&#x27;tanh&#x27;, early_stopping=True,\n",
       "                               hidden_layer_sizes=(150,), max_iter=500,\n",
       "                               random_state=42))])</pre><b>In a Jupyter environment, please rerun this cell to show the HTML representation or trust the notebook. <br />On GitHub, the HTML representation is unable to render, please try loading this page with nbviewer.org.</b></div><div class=\"sk-container\" hidden><div class=\"sk-item sk-dashed-wrapped\"><div class=\"sk-label-container\"><div class=\"sk-label sk-toggleable\"><input class=\"sk-toggleable__control sk-hidden--visually\" id=\"sk-estimator-id-9\" type=\"checkbox\" ><label for=\"sk-estimator-id-9\" class=\"sk-toggleable__label sk-toggleable__label-arrow\">Pipeline</label><div class=\"sk-toggleable__content\"><pre>Pipeline(steps=[(&#x27;preprocessor&#x27;,\n",
       "                 ColumnTransformer(transformers=[(&#x27;num&#x27;,\n",
       "                                                  Pipeline(steps=[(&#x27;imputer&#x27;,\n",
       "                                                                   SimpleImputer(strategy=&#x27;median&#x27;)),\n",
       "                                                                  (&#x27;scaler&#x27;,\n",
       "                                                                   StandardScaler())]),\n",
       "                                                  [&#x27;HTGS&#x27;, &#x27;ATGS&#x27;, &#x27;HTGC&#x27;,\n",
       "                                                   &#x27;ATGC&#x27;, &#x27;HTP&#x27;, &#x27;ATP&#x27;, &#x27;HM1&#x27;,\n",
       "                                                   &#x27;HM2&#x27;, &#x27;HM3&#x27;, &#x27;HM4&#x27;, &#x27;HM5&#x27;,\n",
       "                                                   &#x27;AM1&#x27;, &#x27;AM2&#x27;, &#x27;AM3&#x27;, &#x27;AM4&#x27;,\n",
       "                                                   &#x27;AM5&#x27;, &#x27;HTFormPts&#x27;,\n",
       "                                                   &#x27;ATFormPts&#x27;, &#x27;HTWinStreak3&#x27;,\n",
       "                                                   &#x27;HTWinStreak5&#x27;,\n",
       "                                                   &#x27;HTLossStreak3&#x27;,\n",
       "                                                   &#x27;HTLossStreak5&#x27;,\n",
       "                                                   &#x27;ATWinStreak3&#x27;,\n",
       "                                                   &#x27;ATWinStreak5&#x27;,\n",
       "                                                   &#x27;ATLossStreak3&#x27;,\n",
       "                                                   &#x27;ATLossStreak5&#x27;, &#x27;HTGD&#x27;,\n",
       "                                                   &#x27;ATGD&#x27;, &#x27;DiffPts&#x27;,\n",
       "                                                   &#x27;DiffFormPts&#x27;]),\n",
       "                                                 (&#x27;cat&#x27;,\n",
       "                                                  OneHotEncoder(handle_unknown=&#x27;ignore&#x27;),\n",
       "                                                  [&#x27;HomeTeam&#x27;, &#x27;AwayTeam&#x27;])])),\n",
       "                (&#x27;mlp&#x27;,\n",
       "                 MLPClassifier(activation=&#x27;tanh&#x27;, early_stopping=True,\n",
       "                               hidden_layer_sizes=(150,), max_iter=500,\n",
       "                               random_state=42))])</pre></div></div></div><div class=\"sk-serial\"><div class=\"sk-item sk-dashed-wrapped\"><div class=\"sk-label-container\"><div class=\"sk-label sk-toggleable\"><input class=\"sk-toggleable__control sk-hidden--visually\" id=\"sk-estimator-id-10\" type=\"checkbox\" ><label for=\"sk-estimator-id-10\" class=\"sk-toggleable__label sk-toggleable__label-arrow\">preprocessor: ColumnTransformer</label><div class=\"sk-toggleable__content\"><pre>ColumnTransformer(transformers=[(&#x27;num&#x27;,\n",
       "                                 Pipeline(steps=[(&#x27;imputer&#x27;,\n",
       "                                                  SimpleImputer(strategy=&#x27;median&#x27;)),\n",
       "                                                 (&#x27;scaler&#x27;, StandardScaler())]),\n",
       "                                 [&#x27;HTGS&#x27;, &#x27;ATGS&#x27;, &#x27;HTGC&#x27;, &#x27;ATGC&#x27;, &#x27;HTP&#x27;, &#x27;ATP&#x27;,\n",
       "                                  &#x27;HM1&#x27;, &#x27;HM2&#x27;, &#x27;HM3&#x27;, &#x27;HM4&#x27;, &#x27;HM5&#x27;, &#x27;AM1&#x27;,\n",
       "                                  &#x27;AM2&#x27;, &#x27;AM3&#x27;, &#x27;AM4&#x27;, &#x27;AM5&#x27;, &#x27;HTFormPts&#x27;,\n",
       "                                  &#x27;ATFormPts&#x27;, &#x27;HTWinStreak3&#x27;, &#x27;HTWinStreak5&#x27;,\n",
       "                                  &#x27;HTLossStreak3&#x27;, &#x27;HTLossStreak5&#x27;,\n",
       "                                  &#x27;ATWinStreak3&#x27;, &#x27;ATWinStreak5&#x27;,\n",
       "                                  &#x27;ATLossStreak3&#x27;, &#x27;ATLossStreak5&#x27;, &#x27;HTGD&#x27;,\n",
       "                                  &#x27;ATGD&#x27;, &#x27;DiffPts&#x27;, &#x27;DiffFormPts&#x27;]),\n",
       "                                (&#x27;cat&#x27;, OneHotEncoder(handle_unknown=&#x27;ignore&#x27;),\n",
       "                                 [&#x27;HomeTeam&#x27;, &#x27;AwayTeam&#x27;])])</pre></div></div></div><div class=\"sk-parallel\"><div class=\"sk-parallel-item\"><div class=\"sk-item\"><div class=\"sk-label-container\"><div class=\"sk-label sk-toggleable\"><input class=\"sk-toggleable__control sk-hidden--visually\" id=\"sk-estimator-id-11\" type=\"checkbox\" ><label for=\"sk-estimator-id-11\" class=\"sk-toggleable__label sk-toggleable__label-arrow\">num</label><div class=\"sk-toggleable__content\"><pre>[&#x27;HTGS&#x27;, &#x27;ATGS&#x27;, &#x27;HTGC&#x27;, &#x27;ATGC&#x27;, &#x27;HTP&#x27;, &#x27;ATP&#x27;, &#x27;HM1&#x27;, &#x27;HM2&#x27;, &#x27;HM3&#x27;, &#x27;HM4&#x27;, &#x27;HM5&#x27;, &#x27;AM1&#x27;, &#x27;AM2&#x27;, &#x27;AM3&#x27;, &#x27;AM4&#x27;, &#x27;AM5&#x27;, &#x27;HTFormPts&#x27;, &#x27;ATFormPts&#x27;, &#x27;HTWinStreak3&#x27;, &#x27;HTWinStreak5&#x27;, &#x27;HTLossStreak3&#x27;, &#x27;HTLossStreak5&#x27;, &#x27;ATWinStreak3&#x27;, &#x27;ATWinStreak5&#x27;, &#x27;ATLossStreak3&#x27;, &#x27;ATLossStreak5&#x27;, &#x27;HTGD&#x27;, &#x27;ATGD&#x27;, &#x27;DiffPts&#x27;, &#x27;DiffFormPts&#x27;]</pre></div></div></div><div class=\"sk-serial\"><div class=\"sk-item\"><div class=\"sk-serial\"><div class=\"sk-item\"><div class=\"sk-estimator sk-toggleable\"><input class=\"sk-toggleable__control sk-hidden--visually\" id=\"sk-estimator-id-12\" type=\"checkbox\" ><label for=\"sk-estimator-id-12\" class=\"sk-toggleable__label sk-toggleable__label-arrow\">SimpleImputer</label><div class=\"sk-toggleable__content\"><pre>SimpleImputer(strategy=&#x27;median&#x27;)</pre></div></div></div><div class=\"sk-item\"><div class=\"sk-estimator sk-toggleable\"><input class=\"sk-toggleable__control sk-hidden--visually\" id=\"sk-estimator-id-13\" type=\"checkbox\" ><label for=\"sk-estimator-id-13\" class=\"sk-toggleable__label sk-toggleable__label-arrow\">StandardScaler</label><div class=\"sk-toggleable__content\"><pre>StandardScaler()</pre></div></div></div></div></div></div></div></div><div class=\"sk-parallel-item\"><div class=\"sk-item\"><div class=\"sk-label-container\"><div class=\"sk-label sk-toggleable\"><input class=\"sk-toggleable__control sk-hidden--visually\" id=\"sk-estimator-id-14\" type=\"checkbox\" ><label for=\"sk-estimator-id-14\" class=\"sk-toggleable__label sk-toggleable__label-arrow\">cat</label><div class=\"sk-toggleable__content\"><pre>[&#x27;HomeTeam&#x27;, &#x27;AwayTeam&#x27;]</pre></div></div></div><div class=\"sk-serial\"><div class=\"sk-item\"><div class=\"sk-estimator sk-toggleable\"><input class=\"sk-toggleable__control sk-hidden--visually\" id=\"sk-estimator-id-15\" type=\"checkbox\" ><label for=\"sk-estimator-id-15\" class=\"sk-toggleable__label sk-toggleable__label-arrow\">OneHotEncoder</label><div class=\"sk-toggleable__content\"><pre>OneHotEncoder(handle_unknown=&#x27;ignore&#x27;)</pre></div></div></div></div></div></div></div></div><div class=\"sk-item\"><div class=\"sk-estimator sk-toggleable\"><input class=\"sk-toggleable__control sk-hidden--visually\" id=\"sk-estimator-id-16\" type=\"checkbox\" ><label for=\"sk-estimator-id-16\" class=\"sk-toggleable__label sk-toggleable__label-arrow\">MLPClassifier</label><div class=\"sk-toggleable__content\"><pre>MLPClassifier(activation=&#x27;tanh&#x27;, early_stopping=True, hidden_layer_sizes=(150,),\n",
       "              max_iter=500, random_state=42)</pre></div></div></div></div></div></div></div>"
      ],
      "text/plain": [
       "Pipeline(steps=[('preprocessor',\n",
       "                 ColumnTransformer(transformers=[('num',\n",
       "                                                  Pipeline(steps=[('imputer',\n",
       "                                                                   SimpleImputer(strategy='median')),\n",
       "                                                                  ('scaler',\n",
       "                                                                   StandardScaler())]),\n",
       "                                                  ['HTGS', 'ATGS', 'HTGC',\n",
       "                                                   'ATGC', 'HTP', 'ATP', 'HM1',\n",
       "                                                   'HM2', 'HM3', 'HM4', 'HM5',\n",
       "                                                   'AM1', 'AM2', 'AM3', 'AM4',\n",
       "                                                   'AM5', 'HTFormPts',\n",
       "                                                   'ATFormPts', 'HTWinStreak3',\n",
       "                                                   'HTWinStreak5',\n",
       "                                                   'HTLossStreak3',\n",
       "                                                   'HTLossStreak5',\n",
       "                                                   'ATWinStreak3',\n",
       "                                                   'ATWinStreak5',\n",
       "                                                   'ATLossStreak3',\n",
       "                                                   'ATLossStreak5', 'HTGD',\n",
       "                                                   'ATGD', 'DiffPts',\n",
       "                                                   'DiffFormPts']),\n",
       "                                                 ('cat',\n",
       "                                                  OneHotEncoder(handle_unknown='ignore'),\n",
       "                                                  ['HomeTeam', 'AwayTeam'])])),\n",
       "                ('mlp',\n",
       "                 MLPClassifier(activation='tanh', early_stopping=True,\n",
       "                               hidden_layer_sizes=(150,), max_iter=500,\n",
       "                               random_state=42))])"
      ]
     },
     "execution_count": 23,
     "metadata": {},
     "output_type": "execute_result"
    }
   ],
   "source": [
    "# Trenowanie modelu\n",
    "model.fit(X_train, y_train)"
   ]
  },
  {
   "cell_type": "code",
   "execution_count": 24,
   "metadata": {},
   "outputs": [],
   "source": [
    "# Predykcja na zbiorze testowym\n",
    "y_pred = model.predict(X_test)"
   ]
  },
  {
   "cell_type": "code",
   "execution_count": 25,
   "metadata": {},
   "outputs": [
    {
     "name": "stdout",
     "output_type": "stream",
     "text": [
      "Dokładność modelu MLP : 0.5592105263157895\n",
      "Raport klasyfikacji:\n",
      "               precision    recall  f1-score   support\n",
      "\n",
      "           A       0.55      0.56      0.56       244\n",
      "           D       0.28      0.04      0.07       163\n",
      "           H       0.58      0.80      0.67       353\n",
      "\n",
      "    accuracy                           0.56       760\n",
      "   macro avg       0.47      0.47      0.43       760\n",
      "weighted avg       0.51      0.56      0.51       760\n",
      "\n"
     ]
    }
   ],
   "source": [
    "# Ocena modelu\n",
    "accuracy = accuracy_score(y_test, y_pred)\n",
    "print(\"Dokładność modelu MLP :\", accuracy)\n",
    "print(\"Raport klasyfikacji:\\n\", classification_report(y_test, y_pred))\n"
   ]
  },
  {
   "cell_type": "code",
   "execution_count": 26,
   "metadata": {},
   "outputs": [
    {
     "ename": "NameError",
     "evalue": "name 'columns_to_drop' is not defined",
     "output_type": "error",
     "traceback": [
      "\u001b[1;31m---------------------------------------------------------------------------\u001b[0m",
      "\u001b[1;31mNameError\u001b[0m                                 Traceback (most recent call last)",
      "Cell \u001b[1;32mIn[26], line 12\u001b[0m\n\u001b[0;32m      8\u001b[0m \u001b[38;5;28;01mimport\u001b[39;00m \u001b[38;5;21;01mnumpy\u001b[39;00m \u001b[38;5;28;01mas\u001b[39;00m \u001b[38;5;21;01mnp\u001b[39;00m\n\u001b[0;32m     10\u001b[0m \u001b[38;5;66;03m# 1. USUWANIE niepotrzebnych cech tekstowych z historii meczów\u001b[39;00m\n\u001b[0;32m     11\u001b[0m \u001b[38;5;66;03m#columns_to_drop = ['HM1', 'HM2', 'HM3', 'HM4', 'HM5', 'AM1', 'AM2', 'AM3', 'AM4', 'AM5']\u001b[39;00m\n\u001b[1;32m---> 12\u001b[0m X_train \u001b[38;5;241m=\u001b[39m X_train\u001b[38;5;241m.\u001b[39mdrop(columns\u001b[38;5;241m=\u001b[39m\u001b[43mcolumns_to_drop\u001b[49m, errors\u001b[38;5;241m=\u001b[39m\u001b[38;5;124m\"\u001b[39m\u001b[38;5;124mignore\u001b[39m\u001b[38;5;124m\"\u001b[39m)\n\u001b[0;32m     13\u001b[0m X_test \u001b[38;5;241m=\u001b[39m X_test\u001b[38;5;241m.\u001b[39mdrop(columns\u001b[38;5;241m=\u001b[39mcolumns_to_drop, errors\u001b[38;5;241m=\u001b[39m\u001b[38;5;124m\"\u001b[39m\u001b[38;5;124mignore\u001b[39m\u001b[38;5;124m\"\u001b[39m)\n\u001b[0;32m     15\u001b[0m \u001b[38;5;66;03m# 2. Przywrócenie LabelEncoder (jeśli go już nie ma)\u001b[39;00m\n",
      "\u001b[1;31mNameError\u001b[0m: name 'columns_to_drop' is not defined"
     ]
    }
   ],
   "source": [
    "from sklearn.pipeline import Pipeline\n",
    "from sklearn.preprocessing import StandardScaler, OneHotEncoder, LabelEncoder\n",
    "from sklearn.impute import SimpleImputer\n",
    "from sklearn.compose import ColumnTransformer\n",
    "from sklearn.neural_network import MLPClassifier\n",
    "from sklearn.model_selection import GridSearchCV\n",
    "from sklearn.metrics import classification_report\n",
    "import numpy as np\n",
    "\n",
    "# 1. USUWANIE niepotrzebnych cech tekstowych z historii meczów\n",
    "#columns_to_drop = ['HM1', 'HM2', 'HM3', 'HM4', 'HM5', 'AM1', 'AM2', 'AM3', 'AM4', 'AM5']\n",
    "X_train = X_train.drop(columns=columns_to_drop, errors=\"ignore\")\n",
    "X_test = X_test.drop(columns=columns_to_drop, errors=\"ignore\")\n",
    "\n",
    "# 2. Przywrócenie LabelEncoder (jeśli go już nie ma)\n",
    "label_encoder = LabelEncoder()\n",
    "label_encoder.fit(['D', 'H', 'NH'])  # zakładamy, że używasz tylko tych 3 klas\n",
    "\n",
    "# 3. Lista kolumn\n",
    "categorical_features = ['HomeTeam', 'AwayTeam']\n",
    "numerical_features = [col for col in X_train.columns if col not in categorical_features]\n",
    "\n",
    "# 4. Preprocessing\n",
    "preprocessor = ColumnTransformer(\n",
    "    transformers=[\n",
    "        ('num', Pipeline([\n",
    "            ('imputer', SimpleImputer(strategy='median')),\n",
    "            ('scaler', StandardScaler())\n",
    "        ]), numerical_features),\n",
    "        \n",
    "        ('cat', OneHotEncoder(handle_unknown='ignore'), categorical_features)\n",
    "    ]\n",
    ")\n",
    "\n",
    "# 5. Pipeline + MLP\n",
    "pipeline = Pipeline([\n",
    "    ('preprocessor', preprocessor),\n",
    "    ('mlp', MLPClassifier(random_state=42, max_iter=500))\n",
    "])\n",
    "\n",
    "# 6. Parametry\n",
    "param_grid = {\n",
    "    \"mlp__hidden_layer_sizes\": [(50,), (100,), (150,), (100, 50), (150, 75), (100, 100)],\n",
    "    \"mlp__activation\": [\"relu\", \"tanh\"],\n",
    "    \"mlp__solver\": [\"adam\", \"lbfgs\"],\n",
    "    \"mlp__alpha\": [0.0001, 0.001, 0.01],\n",
    "    \"mlp__learning_rate_init\": [0.0005, 0.001, 0.005],\n",
    "    \"mlp__early_stopping\": [True]\n",
    "}\n",
    "\n",
    "# 7. GridSearchCV\n",
    "grid_search = GridSearchCV(\n",
    "    pipeline,\n",
    "    param_grid=param_grid,\n",
    "    cv=5,\n",
    "    scoring='accuracy',\n",
    "    verbose=2,\n",
    "    n_jobs=-1\n",
    ")\n",
    "\n",
    "# 8. Trening\n",
    "grid_search.fit(X_train, y_train)\n",
    "\n",
    "# 9. Wyniki\n",
    "print(\"✅ Najlepsze parametry:\", grid_search.best_params_)\n",
    "print(\"✅ Najlepsza dokładność (walidacja):\", grid_search.best_score_)\n",
    "\n",
    "best_model = grid_search.best_estimator_\n",
    "test_accuracy = best_model.score(X_test, y_test)\n",
    "print(\"✅ Dokładność na zbiorze testowym:\", test_accuracy)\n",
    "\n",
    "# 10. Raport klasyfikacji\n",
    "y_pred = best_model.predict(X_test)\n",
    "print(\"\\n📊 Raport klasyfikacji:\\n\")\n",
    "print(classification_report(y_test, y_pred, target_names=label_encoder.classes_))\n"
   ]
  }
 ],
 "metadata": {
  "kernelspec": {
   "display_name": "Python 3",
   "language": "python",
   "name": "python3"
  },
  "language_info": {
   "codemirror_mode": {
    "name": "ipython",
    "version": 3
   },
   "file_extension": ".py",
   "mimetype": "text/x-python",
   "name": "python",
   "nbconvert_exporter": "python",
   "pygments_lexer": "ipython3",
   "version": "3.10.11"
  }
 },
 "nbformat": 4,
 "nbformat_minor": 2
}
